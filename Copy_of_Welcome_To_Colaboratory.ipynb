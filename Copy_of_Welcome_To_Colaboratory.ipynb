{
  "cells": [
    {
      "cell_type": "markdown",
      "metadata": {
        "id": "view-in-github",
        "colab_type": "text"
      },
      "source": [
        "<a href=\"https://colab.research.google.com/github/Gavriel55555/translator/blob/main/Copy_of_Welcome_To_Colaboratory.ipynb\" target=\"_parent\"><img src=\"https://colab.research.google.com/assets/colab-badge.svg\" alt=\"Open In Colab\"/></a>"
      ]
    },
    {
      "cell_type": "code",
      "source": [
        "import torch\n",
        "import matplotlib.pyplot as plt\n",
        "import numpy as np\n",
        "import pandas as pd\n",
        "import seaborn as sns\n",
        "\n",
        "\n",
        "\n",
        "from torch.utils.data import Dataset\n",
        "from torch.utils.data import DataLoader\n",
        "from torch import nn\n",
        "import torch.nn.functional as F\n",
        "\n",
        "#from torchsummary import summary\n",
        "\n",
        "import sys\n",
        "sys.path.insert(0, '../helpers')\n",
        "\n",
        "\n",
        "\n",
        "\n",
        "#from visual_helpers import *\n",
        "\n",
        "# model interpretability\n",
        "import seaborn as sns\n",
        "import itertools\n",
        "import xarray as xr"
      ],
      "metadata": {
        "id": "2G855DRlUlnc"
      },
      "execution_count": null,
      "outputs": []
    },
    {
      "cell_type": "code",
      "source": [
        "from google.colab import drive\n",
        "drive.mount('/content/gdrive')"
      ],
      "metadata": {
        "colab": {
          "base_uri": "https://localhost:8080/"
        },
        "id": "Qj5nIqH5UshA",
        "outputId": "15c28a3b-67dc-4cdf-8746-e0855098750b"
      },
      "execution_count": null,
      "outputs": [
        {
          "output_type": "stream",
          "name": "stdout",
          "text": [
            "Mounted at /content/gdrive\n"
          ]
        }
      ]
    },
    {
      "cell_type": "code",
      "source": [
        "import io\n",
        "from google.colab import files\n",
        "uploaded = files.upload()\n",
        "data = xr.open_dataset(io.BytesIO(uploaded['date_2023-04-15_time_12_00_00.nc']))"
      ],
      "metadata": {
        "colab": {
          "base_uri": "https://localhost:8080/",
          "height": 73
        },
        "id": "1D1xI_F0VOSZ",
        "outputId": "5b099602-3997-4283-8019-2faafbcdf79c"
      },
      "execution_count": null,
      "outputs": [
        {
          "output_type": "display_data",
          "data": {
            "text/plain": [
              "<IPython.core.display.HTML object>"
            ],
            "text/html": [
              "\n",
              "     <input type=\"file\" id=\"files-750bf779-96ac-41e2-bbeb-30e79d4c3cfb\" name=\"files[]\" multiple disabled\n",
              "        style=\"border:none\" />\n",
              "     <output id=\"result-750bf779-96ac-41e2-bbeb-30e79d4c3cfb\">\n",
              "      Upload widget is only available when the cell has been executed in the\n",
              "      current browser session. Please rerun this cell to enable.\n",
              "      </output>\n",
              "      <script>// Copyright 2017 Google LLC\n",
              "//\n",
              "// Licensed under the Apache License, Version 2.0 (the \"License\");\n",
              "// you may not use this file except in compliance with the License.\n",
              "// You may obtain a copy of the License at\n",
              "//\n",
              "//      http://www.apache.org/licenses/LICENSE-2.0\n",
              "//\n",
              "// Unless required by applicable law or agreed to in writing, software\n",
              "// distributed under the License is distributed on an \"AS IS\" BASIS,\n",
              "// WITHOUT WARRANTIES OR CONDITIONS OF ANY KIND, either express or implied.\n",
              "// See the License for the specific language governing permissions and\n",
              "// limitations under the License.\n",
              "\n",
              "/**\n",
              " * @fileoverview Helpers for google.colab Python module.\n",
              " */\n",
              "(function(scope) {\n",
              "function span(text, styleAttributes = {}) {\n",
              "  const element = document.createElement('span');\n",
              "  element.textContent = text;\n",
              "  for (const key of Object.keys(styleAttributes)) {\n",
              "    element.style[key] = styleAttributes[key];\n",
              "  }\n",
              "  return element;\n",
              "}\n",
              "\n",
              "// Max number of bytes which will be uploaded at a time.\n",
              "const MAX_PAYLOAD_SIZE = 100 * 1024;\n",
              "\n",
              "function _uploadFiles(inputId, outputId) {\n",
              "  const steps = uploadFilesStep(inputId, outputId);\n",
              "  const outputElement = document.getElementById(outputId);\n",
              "  // Cache steps on the outputElement to make it available for the next call\n",
              "  // to uploadFilesContinue from Python.\n",
              "  outputElement.steps = steps;\n",
              "\n",
              "  return _uploadFilesContinue(outputId);\n",
              "}\n",
              "\n",
              "// This is roughly an async generator (not supported in the browser yet),\n",
              "// where there are multiple asynchronous steps and the Python side is going\n",
              "// to poll for completion of each step.\n",
              "// This uses a Promise to block the python side on completion of each step,\n",
              "// then passes the result of the previous step as the input to the next step.\n",
              "function _uploadFilesContinue(outputId) {\n",
              "  const outputElement = document.getElementById(outputId);\n",
              "  const steps = outputElement.steps;\n",
              "\n",
              "  const next = steps.next(outputElement.lastPromiseValue);\n",
              "  return Promise.resolve(next.value.promise).then((value) => {\n",
              "    // Cache the last promise value to make it available to the next\n",
              "    // step of the generator.\n",
              "    outputElement.lastPromiseValue = value;\n",
              "    return next.value.response;\n",
              "  });\n",
              "}\n",
              "\n",
              "/**\n",
              " * Generator function which is called between each async step of the upload\n",
              " * process.\n",
              " * @param {string} inputId Element ID of the input file picker element.\n",
              " * @param {string} outputId Element ID of the output display.\n",
              " * @return {!Iterable<!Object>} Iterable of next steps.\n",
              " */\n",
              "function* uploadFilesStep(inputId, outputId) {\n",
              "  const inputElement = document.getElementById(inputId);\n",
              "  inputElement.disabled = false;\n",
              "\n",
              "  const outputElement = document.getElementById(outputId);\n",
              "  outputElement.innerHTML = '';\n",
              "\n",
              "  const pickedPromise = new Promise((resolve) => {\n",
              "    inputElement.addEventListener('change', (e) => {\n",
              "      resolve(e.target.files);\n",
              "    });\n",
              "  });\n",
              "\n",
              "  const cancel = document.createElement('button');\n",
              "  inputElement.parentElement.appendChild(cancel);\n",
              "  cancel.textContent = 'Cancel upload';\n",
              "  const cancelPromise = new Promise((resolve) => {\n",
              "    cancel.onclick = () => {\n",
              "      resolve(null);\n",
              "    };\n",
              "  });\n",
              "\n",
              "  // Wait for the user to pick the files.\n",
              "  const files = yield {\n",
              "    promise: Promise.race([pickedPromise, cancelPromise]),\n",
              "    response: {\n",
              "      action: 'starting',\n",
              "    }\n",
              "  };\n",
              "\n",
              "  cancel.remove();\n",
              "\n",
              "  // Disable the input element since further picks are not allowed.\n",
              "  inputElement.disabled = true;\n",
              "\n",
              "  if (!files) {\n",
              "    return {\n",
              "      response: {\n",
              "        action: 'complete',\n",
              "      }\n",
              "    };\n",
              "  }\n",
              "\n",
              "  for (const file of files) {\n",
              "    const li = document.createElement('li');\n",
              "    li.append(span(file.name, {fontWeight: 'bold'}));\n",
              "    li.append(span(\n",
              "        `(${file.type || 'n/a'}) - ${file.size} bytes, ` +\n",
              "        `last modified: ${\n",
              "            file.lastModifiedDate ? file.lastModifiedDate.toLocaleDateString() :\n",
              "                                    'n/a'} - `));\n",
              "    const percent = span('0% done');\n",
              "    li.appendChild(percent);\n",
              "\n",
              "    outputElement.appendChild(li);\n",
              "\n",
              "    const fileDataPromise = new Promise((resolve) => {\n",
              "      const reader = new FileReader();\n",
              "      reader.onload = (e) => {\n",
              "        resolve(e.target.result);\n",
              "      };\n",
              "      reader.readAsArrayBuffer(file);\n",
              "    });\n",
              "    // Wait for the data to be ready.\n",
              "    let fileData = yield {\n",
              "      promise: fileDataPromise,\n",
              "      response: {\n",
              "        action: 'continue',\n",
              "      }\n",
              "    };\n",
              "\n",
              "    // Use a chunked sending to avoid message size limits. See b/62115660.\n",
              "    let position = 0;\n",
              "    do {\n",
              "      const length = Math.min(fileData.byteLength - position, MAX_PAYLOAD_SIZE);\n",
              "      const chunk = new Uint8Array(fileData, position, length);\n",
              "      position += length;\n",
              "\n",
              "      const base64 = btoa(String.fromCharCode.apply(null, chunk));\n",
              "      yield {\n",
              "        response: {\n",
              "          action: 'append',\n",
              "          file: file.name,\n",
              "          data: base64,\n",
              "        },\n",
              "      };\n",
              "\n",
              "      let percentDone = fileData.byteLength === 0 ?\n",
              "          100 :\n",
              "          Math.round((position / fileData.byteLength) * 100);\n",
              "      percent.textContent = `${percentDone}% done`;\n",
              "\n",
              "    } while (position < fileData.byteLength);\n",
              "  }\n",
              "\n",
              "  // All done.\n",
              "  yield {\n",
              "    response: {\n",
              "      action: 'complete',\n",
              "    }\n",
              "  };\n",
              "}\n",
              "\n",
              "scope.google = scope.google || {};\n",
              "scope.google.colab = scope.google.colab || {};\n",
              "scope.google.colab._files = {\n",
              "  _uploadFiles,\n",
              "  _uploadFilesContinue,\n",
              "};\n",
              "})(self);\n",
              "</script> "
            ]
          },
          "metadata": {}
        },
        {
          "output_type": "stream",
          "name": "stdout",
          "text": [
            "Saving date_2023-04-15_time_12_00_00.nc to date_2023-04-15_time_12_00_00.nc\n"
          ]
        }
      ]
    },
    {
      "cell_type": "code",
      "source": [
        "print(data)"
      ],
      "metadata": {
        "colab": {
          "base_uri": "https://localhost:8080/"
        },
        "id": "G88nbUM6U9Qs",
        "outputId": "38f257cc-0f13-4089-f064-afcf3f695d74"
      },
      "execution_count": null,
      "outputs": [
        {
          "output_type": "stream",
          "name": "stdout",
          "text": [
            "<xarray.Dataset>\n",
            "Dimensions:    (longitude: 900, latitude: 451, level: 3, time: 3)\n",
            "Coordinates:\n",
            "  * longitude  (longitude) float32 0.0 0.4 0.8 1.2 ... 358.4 358.8 359.2 359.6\n",
            "  * latitude   (latitude) float32 90.0 89.6 89.2 88.8 ... -89.2 -89.6 -90.0\n",
            "  * level      (level) int32 115 125 135\n",
            "  * time       (time) datetime64[ns] 2023-04-15T12:00:00 ... 2023-04-16T12:00:00\n",
            "Data variables:\n",
            "    aermr05    (time, level, latitude, longitude) float32 ...\n",
            "    aermr06    (time, level, latitude, longitude) float32 ...\n",
            "    aermr04    (time, level, latitude, longitude) float32 ...\n",
            "Attributes:\n",
            "    Conventions:  CF-1.6\n",
            "    history:      2023-04-18 12:39:10 GMT by grib_to_netcdf-2.25.1: /opt/ecmw...\n"
          ]
        }
      ]
    },
    {
      "cell_type": "code",
      "source": [
        "print(data.attrs)"
      ],
      "metadata": {
        "id": "akuKxEyFfG4f",
        "outputId": "53877339-531b-4fbc-d111-cd56364619cd",
        "colab": {
          "base_uri": "https://localhost:8080/"
        }
      },
      "execution_count": null,
      "outputs": [
        {
          "output_type": "stream",
          "name": "stdout",
          "text": [
            "{'Conventions': 'CF-1.6', 'history': '2023-04-18 12:39:10 GMT by grib_to_netcdf-2.25.1: /opt/ecmwf/mars-client/bin/grib_to_netcdf.bin -S param -o /cache/tmp/370a14d4-7c2a-4adb-a477-428c8c8b6ad0-adaptor.mars_constrained.internal-1681821550.2127125-5935-23-tmp.nc /cache/tmp/370a14d4-7c2a-4adb-a477-428c8c8b6ad0-adaptor.mars_constrained.internal-1681821548.4230354-5935-16-tmp.grib'}\n"
          ]
        }
      ]
    },
    {
      "cell_type": "code",
      "source": [
        "print(data.data_vars)"
      ],
      "metadata": {
        "id": "t3jvd2bzfdcr",
        "outputId": "84e0f4b6-dbbd-4e44-a18b-a3b622e7be1c",
        "colab": {
          "base_uri": "https://localhost:8080/"
        }
      },
      "execution_count": null,
      "outputs": [
        {
          "output_type": "stream",
          "name": "stdout",
          "text": [
            "Data variables:\n",
            "    aermr05  (time, level, latitude, longitude) float32 ...\n",
            "    aermr06  (time, level, latitude, longitude) float32 ...\n",
            "    aermr04  (time, level, latitude, longitude) float32 ...\n"
          ]
        }
      ]
    },
    {
      "cell_type": "code",
      "source": [
        "data.variables"
      ],
      "metadata": {
        "id": "yQ3eQL4LqqHM",
        "outputId": "ee83399d-f505-4f3c-f68a-3939fadd0a21",
        "colab": {
          "base_uri": "https://localhost:8080/"
        }
      },
      "execution_count": null,
      "outputs": [
        {
          "output_type": "execute_result",
          "data": {
            "text/plain": [
              "Frozen({'longitude': <xarray.IndexVariable 'longitude' (longitude: 900)>\n",
              "array([  0. ,   0.4,   0.8, ..., 358.8, 359.2, 359.6], dtype=float32)\n",
              "Attributes:\n",
              "    units:      degrees_east\n",
              "    long_name:  longitude, 'latitude': <xarray.IndexVariable 'latitude' (latitude: 451)>\n",
              "array([ 90. ,  89.6,  89.2, ..., -89.2, -89.6, -90. ], dtype=float32)\n",
              "Attributes:\n",
              "    units:      degrees_north\n",
              "    long_name:  latitude, 'level': <xarray.IndexVariable 'level' (level: 3)>\n",
              "array([115, 125, 135], dtype=int32)\n",
              "Attributes:\n",
              "    long_name:  model_level_number, 'time': <xarray.IndexVariable 'time' (time: 3)>\n",
              "array(['2023-04-15T12:00:00.000000000', '2023-04-16T00:00:00.000000000',\n",
              "       '2023-04-16T12:00:00.000000000'], dtype='datetime64[ns]')\n",
              "Attributes:\n",
              "    long_name:  time, 'aermr05': <xarray.Variable (time: 3, level: 3, latitude: 451, longitude: 900)>\n",
              "array([[[[ 9.691803e-12, ...,  9.691803e-12],\n",
              "         ...,\n",
              "         [-1.421085e-14, ..., -1.421085e-14]],\n",
              "\n",
              "        ...,\n",
              "\n",
              "        [[ 4.831691e-12, ...,  4.831691e-12],\n",
              "         ...,\n",
              "         [-1.421085e-14, ..., -1.421085e-14]]],\n",
              "\n",
              "\n",
              "       ...,\n",
              "\n",
              "\n",
              "       [[[-1.421085e-14, ..., -1.421085e-14],\n",
              "         ...,\n",
              "         [-1.421085e-14, ..., -1.421085e-14]],\n",
              "\n",
              "        ...,\n",
              "\n",
              "        [[-1.421085e-14, ..., -1.421085e-14],\n",
              "         ...,\n",
              "         [-1.421085e-14, ..., -1.421085e-14]]]], dtype=float32)\n",
              "Attributes:\n",
              "    units:      kg kg**-1\n",
              "    long_name:  Dust Aerosol (0.55 - 0.9 um) Mixing Ratio, 'aermr06': <xarray.Variable (time: 3, level: 3, latitude: 451, longitude: 900)>\n",
              "array([[[[5.741185e-11, ..., 5.741185e-11],\n",
              "         ...,\n",
              "         [0.000000e+00, ..., 0.000000e+00]],\n",
              "\n",
              "        ...,\n",
              "\n",
              "        [[0.000000e+00, ..., 0.000000e+00],\n",
              "         ...,\n",
              "         [0.000000e+00, ..., 0.000000e+00]]],\n",
              "\n",
              "\n",
              "       ...,\n",
              "\n",
              "\n",
              "       [[[0.000000e+00, ..., 0.000000e+00],\n",
              "         ...,\n",
              "         [0.000000e+00, ..., 0.000000e+00]],\n",
              "\n",
              "        ...,\n",
              "\n",
              "        [[0.000000e+00, ..., 0.000000e+00],\n",
              "         ...,\n",
              "         [0.000000e+00, ..., 0.000000e+00]]]], dtype=float32)\n",
              "Attributes:\n",
              "    units:      kg kg**-1\n",
              "    long_name:  Dust Aerosol (0.9 - 20 um) Mixing Ratio, 'aermr04': <xarray.Variable (time: 3, level: 3, latitude: 451, longitude: 900)>\n",
              "array([[[[2.083667e-12, ..., 2.083667e-12],\n",
              "         ...,\n",
              "         [0.000000e+00, ..., 0.000000e+00]],\n",
              "\n",
              "        ...,\n",
              "\n",
              "        [[5.204726e-13, ..., 5.204726e-13],\n",
              "         ...,\n",
              "         [0.000000e+00, ..., 0.000000e+00]]],\n",
              "\n",
              "\n",
              "       ...,\n",
              "\n",
              "\n",
              "       [[[0.000000e+00, ..., 0.000000e+00],\n",
              "         ...,\n",
              "         [0.000000e+00, ..., 0.000000e+00]],\n",
              "\n",
              "        ...,\n",
              "\n",
              "        [[0.000000e+00, ..., 0.000000e+00],\n",
              "         ...,\n",
              "         [0.000000e+00, ..., 0.000000e+00]]]], dtype=float32)\n",
              "Attributes:\n",
              "    units:      kg kg**-1\n",
              "    long_name:  Dust Aerosol (0.03 - 0.55 um) Mixing Ratio})"
            ]
          },
          "metadata": {},
          "execution_count": 75
        }
      ]
    },
    {
      "cell_type": "code",
      "source": [
        "print(data[\"aermr05\"])"
      ],
      "metadata": {
        "colab": {
          "base_uri": "https://localhost:8080/"
        },
        "id": "ISNgj5EmWCKr",
        "outputId": "3101c662-0275-468a-97ec-93e300ca9d3a"
      },
      "execution_count": null,
      "outputs": [
        {
          "output_type": "stream",
          "name": "stdout",
          "text": [
            "<xarray.DataArray 'aermr05' (time: 3, level: 3, latitude: 451, longitude: 900)>\n",
            "[3653100 values with dtype=float32]\n",
            "Coordinates:\n",
            "  * longitude  (longitude) float32 0.0 0.4 0.8 1.2 ... 358.4 358.8 359.2 359.6\n",
            "  * latitude   (latitude) float32 90.0 89.6 89.2 88.8 ... -89.2 -89.6 -90.0\n",
            "  * level      (level) int32 115 125 135\n",
            "  * time       (time) datetime64[ns] 2023-04-15T12:00:00 ... 2023-04-16T12:00:00\n",
            "Attributes:\n",
            "    units:      kg kg**-1\n",
            "    long_name:  Dust Aerosol (0.55 - 0.9 um) Mixing Ratio\n"
          ]
        }
      ]
    },
    {
      "cell_type": "code",
      "source": [
        "df=data.to_dataframe()"
      ],
      "metadata": {
        "id": "xqP5xILcfslI"
      },
      "execution_count": null,
      "outputs": []
    },
    {
      "cell_type": "code",
      "source": [
        "unique_long_index=np.unique([x[0] for x in df.index])"
      ],
      "metadata": {
        "id": "cREA-nyHgLBI"
      },
      "execution_count": null,
      "outputs": []
    },
    {
      "cell_type": "code",
      "source": [
        "W=len(np.unique([x[0] for x in df.index]))\n",
        "H=len(np.unique([x[1] for x in df.index]))\n",
        "N=len(np.unique([x[2] for x in df.index]))\n",
        "L=len(np.unique([x[3] for x in df.index]))"
      ],
      "metadata": {
        "id": "205mYQkqnl8S"
      },
      "execution_count": null,
      "outputs": []
    },
    {
      "cell_type": "code",
      "source": [
        "!pip install einops"
      ],
      "metadata": {
        "id": "51WoGd6CkHu6",
        "outputId": "413741b4-45b3-4565-caa5-626cc8a38892",
        "colab": {
          "base_uri": "https://localhost:8080/"
        }
      },
      "execution_count": null,
      "outputs": [
        {
          "output_type": "stream",
          "name": "stdout",
          "text": [
            "Looking in indexes: https://pypi.org/simple, https://us-python.pkg.dev/colab-wheels/public/simple/\n",
            "Collecting einops\n",
            "  Downloading einops-0.6.1-py3-none-any.whl (42 kB)\n",
            "\u001b[2K     \u001b[90m━━━━━━━━━━━━━━━━━━━━━━━━━━━━━━━━━━━━━━━━\u001b[0m \u001b[32m42.2/42.2 kB\u001b[0m \u001b[31m2.2 MB/s\u001b[0m eta \u001b[36m0:00:00\u001b[0m\n",
            "\u001b[?25hInstalling collected packages: einops\n",
            "Successfully installed einops-0.6.1\n"
          ]
        }
      ]
    },
    {
      "cell_type": "code",
      "source": [
        "from einops import rearrange"
      ],
      "metadata": {
        "id": "mGLPeOuRjq2w"
      },
      "execution_count": null,
      "outputs": []
    },
    {
      "cell_type": "code",
      "source": [
        "df1=df.to_numpy()"
      ],
      "metadata": {
        "id": "ZVDgmUwXkiZW"
      },
      "execution_count": null,
      "outputs": []
    },
    {
      "cell_type": "code",
      "source": [
        "df1.shape"
      ],
      "metadata": {
        "id": "Idfh7ycxkqWg",
        "outputId": "1764f8a6-5fe6-4937-d8a4-d595dc076a46",
        "colab": {
          "base_uri": "https://localhost:8080/"
        }
      },
      "execution_count": null,
      "outputs": [
        {
          "output_type": "execute_result",
          "data": {
            "text/plain": [
              "(3653100, 3)"
            ]
          },
          "metadata": {},
          "execution_count": 45
        }
      ]
    },
    {
      "cell_type": "code",
      "source": [
        "df2=rearrange(df1,\"(W H N L) C -> L C N H W \",W=W, H=H ,N=N,L=L )"
      ],
      "metadata": {
        "id": "zBJt4YxtksKP"
      },
      "execution_count": null,
      "outputs": []
    },
    {
      "cell_type": "code",
      "source": [
        "df2.shape"
      ],
      "metadata": {
        "id": "CeCLpxJUpI7D",
        "outputId": "44033e15-f8aa-4986-bb8b-5a729d52c8da",
        "colab": {
          "base_uri": "https://localhost:8080/"
        }
      },
      "execution_count": null,
      "outputs": [
        {
          "output_type": "execute_result",
          "data": {
            "text/plain": [
              "(3, 3, 3, 451, 900)"
            ]
          },
          "metadata": {},
          "execution_count": 83
        }
      ]
    },
    {
      "cell_type": "code",
      "source": [
        "df2[0,0,0]"
      ],
      "metadata": {
        "id": "SY7fIjB2tdHW",
        "outputId": "bba1034c-38fa-433a-d57b-b807f6fa7e86",
        "colab": {
          "base_uri": "https://localhost:8080/"
        }
      },
      "execution_count": null,
      "outputs": [
        {
          "output_type": "execute_result",
          "data": {
            "text/plain": [
              "array([[ 9.6918029e-12,  9.6918029e-12,  9.6918029e-12, ...,\n",
              "         9.6918029e-12,  9.6918029e-12,  9.6918029e-12],\n",
              "       [ 9.6918029e-12,  9.6918029e-12,  9.6918029e-12, ...,\n",
              "         9.6918029e-12,  9.6918029e-12,  9.6918029e-12],\n",
              "       [ 9.6918029e-12,  9.6918029e-12,  9.6918029e-12, ...,\n",
              "         9.6918029e-12,  9.6918029e-12,  9.6918029e-12],\n",
              "       ...,\n",
              "       [-1.4210855e-14, -1.4210855e-14, -1.4210855e-14, ...,\n",
              "        -1.4210855e-14, -1.4210855e-14, -1.4210855e-14],\n",
              "       [-1.4210855e-14, -1.4210855e-14, -1.4210855e-14, ...,\n",
              "        -1.4210855e-14, -1.4210855e-14, -1.4210855e-14],\n",
              "       [-1.4210855e-14, -1.4210855e-14, -1.4210855e-14, ...,\n",
              "        -1.4210855e-14, -1.4210855e-14, -1.4210855e-14]], dtype=float32)"
            ]
          },
          "metadata": {},
          "execution_count": 84
        }
      ]
    },
    {
      "cell_type": "code",
      "source": [
        "plt.imshow(df2[0,2,2])"
      ],
      "metadata": {
        "id": "sY5QQ8SVpOSa",
        "outputId": "d259e155-90fb-450e-96b3-45e125cfa385",
        "colab": {
          "base_uri": "https://localhost:8080/",
          "height": 331
        }
      },
      "execution_count": null,
      "outputs": [
        {
          "output_type": "execute_result",
          "data": {
            "text/plain": [
              "<matplotlib.image.AxesImage at 0x7fdeb75bf790>"
            ]
          },
          "metadata": {},
          "execution_count": 88
        },
        {
          "output_type": "display_data",
          "data": {
            "text/plain": [
              "<Figure size 640x480 with 1 Axes>"
            ],
            "image/png": "[encoded data removed]"
          },
          "metadata": {}
        }
      ]
    },
    {
      "cell_type": "code",
      "source": [],
      "metadata": {
        "id": "yJCD-crFtRWR"
      },
      "execution_count": null,
      "outputs": []
    }
  ],
  "metadata": {
    "colab": {
      "provenance": [],
      "include_colab_link": true
    },
    "kernelspec": {
      "display_name": "Python 3",
      "name": "python3"
    }
  },
  "nbformat": 4,
  "nbformat_minor": 0
}